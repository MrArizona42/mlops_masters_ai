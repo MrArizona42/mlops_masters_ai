{
 "cells": [
  {
   "cell_type": "code",
   "execution_count": 6,
   "id": "e602d320",
   "metadata": {},
   "outputs": [
    {
     "data": {
      "application/vnd.jupyter.widget-view+json": {
       "model_id": "0a47e4b5e60b43c5a951abd6bc1d3d7b",
       "version_major": 2,
       "version_minor": 0
      },
      "text/plain": [
       "Downloading artifacts:   0%|          | 0/7 [00:00<?, ?it/s]"
      ]
     },
     "metadata": {},
     "output_type": "display_data"
    },
    {
     "name": "stderr",
     "output_type": "stream",
     "text": [
      "2025/10/18 13:18:37 WARNING mlflow.utils.requirements_utils: Detected one or more mismatches between the model's dependencies and the current Python environment:\n",
      " - cloudpickle (current: 2.2.1, required: cloudpickle==3.1.1)\n",
      " - numpy (current: 1.24.4, required: numpy==1.26.4)\n",
      " - psutil (current: 5.9.5, required: psutil==6.0.0)\n",
      " - scikit-learn (current: 1.3.0, required: scikit-learn==1.5.1)\n",
      " - scipy (current: 1.11.1, required: scipy==1.15.3)\n",
      "To fix the mismatches, call `mlflow.pyfunc.get_model_dependencies(model_uri)` to fetch the model's environment and install dependencies using the resulting environment file.\n",
      "2025/10/18 13:18:37 WARNING mlflow.pyfunc: The version of Python that the model was saved in, `Python 3.10.14`, differs from the version of Python that is currently running, `Python 3.11.4`, and may be incompatible\n",
      "/opt/conda/lib/python3.11/site-packages/sklearn/base.py:347: InconsistentVersionWarning: Trying to unpickle estimator DecisionTreeRegressor from version 1.5.1 when using version 1.3.0. This might lead to breaking code or invalid results. Use at your own risk. For more info please refer to:\n",
      "https://scikit-learn.org/stable/model_persistence.html#security-maintainability-limitations\n",
      "  warnings.warn(\n",
      "/opt/conda/lib/python3.11/site-packages/sklearn/base.py:347: InconsistentVersionWarning: Trying to unpickle estimator RandomForestRegressor from version 1.5.1 when using version 1.3.0. This might lead to breaking code or invalid results. Use at your own risk. For more info please refer to:\n",
      "https://scikit-learn.org/stable/model_persistence.html#security-maintainability-limitations\n",
      "  warnings.warn(\n"
     ]
    },
    {
     "data": {
      "text/plain": [
       "array([3.0868    , 2.62053333, 2.62953333, 1.69506667, 2.07053333])"
      ]
     },
     "execution_count": 6,
     "metadata": {},
     "output_type": "execute_result"
    }
   ],
   "source": [
    "from mlflow.models import validate_serving_input\n",
    "\n",
    "model_uri = 'runs:/30f846cab999434480d2b6ef883542d2/model'\n",
    "\n",
    "# The model is logged with an input example. MLflow converts\n",
    "# it into the serving payload format for the deployed model endpoint,\n",
    "# and saves it to 'serving_input_payload.json'\n",
    "serving_payload = \"\"\"{\n",
    "  \"dataframe_split\": {\n",
    "    \"columns\": [\n",
    "      \"total_bill\",\n",
    "      \"size\",\n",
    "      \"sex_Male\",\n",
    "      \"smoker_Yes\",\n",
    "      \"day_Sat\",\n",
    "      \"day_Sun\",\n",
    "      \"day_Thur\",\n",
    "      \"time_Lunch\"\n",
    "    ],\n",
    "    \"data\": [\n",
    "      [\n",
    "        17.31,\n",
    "        2,\n",
    "        false,\n",
    "        false,\n",
    "        false,\n",
    "        true,\n",
    "        false,\n",
    "        false\n",
    "      ],\n",
    "      [\n",
    "        24.27,\n",
    "        2,\n",
    "        true,\n",
    "        true,\n",
    "        true,\n",
    "        false,\n",
    "        false,\n",
    "        false\n",
    "      ],\n",
    "      [\n",
    "        13.39,\n",
    "        2,\n",
    "        false,\n",
    "        false,\n",
    "        false,\n",
    "        true,\n",
    "        false,\n",
    "        false\n",
    "      ],\n",
    "      [\n",
    "        11.17,\n",
    "        2,\n",
    "        false,\n",
    "        false,\n",
    "        false,\n",
    "        false,\n",
    "        true,\n",
    "        true\n",
    "      ],\n",
    "      [\n",
    "        15.98,\n",
    "        2,\n",
    "        true,\n",
    "        false,\n",
    "        false,\n",
    "        false,\n",
    "        true,\n",
    "        true\n",
    "      ]\n",
    "    ]\n",
    "  }\n",
    "}\"\"\"\n",
    "\n",
    "# Validate the serving payload works on the model\n",
    "validate_serving_input(model_uri, serving_payload)"
   ]
  },
  {
   "cell_type": "code",
   "execution_count": null,
   "id": "ab3d2835",
   "metadata": {},
   "outputs": [],
   "source": []
  },
  {
   "cell_type": "code",
   "execution_count": 3,
   "id": "584ff1f1",
   "metadata": {},
   "outputs": [
    {
     "data": {
      "application/vnd.jupyter.widget-view+json": {
       "model_id": "0575361e073c460682db183ae390aeac",
       "version_major": 2,
       "version_minor": 0
      },
      "text/plain": [
       "Downloading artifacts:   0%|          | 0/7 [00:00<?, ?it/s]"
      ]
     },
     "metadata": {},
     "output_type": "display_data"
    },
    {
     "name": "stderr",
     "output_type": "stream",
     "text": [
      "2025/10/18 13:10:57 WARNING mlflow.utils.requirements_utils: Detected one or more mismatches between the model's dependencies and the current Python environment:\n",
      " - cloudpickle (current: 2.2.1, required: cloudpickle==3.1.1)\n",
      " - numpy (current: 1.24.4, required: numpy==1.26.4)\n",
      " - psutil (current: 5.9.5, required: psutil==6.0.0)\n",
      " - scikit-learn (current: 1.3.0, required: scikit-learn==1.5.1)\n",
      " - scipy (current: 1.11.1, required: scipy==1.15.3)\n",
      "To fix the mismatches, call `mlflow.pyfunc.get_model_dependencies(model_uri)` to fetch the model's environment and install dependencies using the resulting environment file.\n",
      "2025/10/18 13:10:57 WARNING mlflow.pyfunc: The version of Python that the model was saved in, `Python 3.10.14`, differs from the version of Python that is currently running, `Python 3.11.4`, and may be incompatible\n",
      "/opt/conda/lib/python3.11/site-packages/sklearn/base.py:347: InconsistentVersionWarning: Trying to unpickle estimator LinearRegression from version 1.5.1 when using version 1.3.0. This might lead to breaking code or invalid results. Use at your own risk. For more info please refer to:\n",
      "https://scikit-learn.org/stable/model_persistence.html#security-maintainability-limitations\n",
      "  warnings.warn(\n"
     ]
    },
    {
     "data": {
      "text/plain": [
       "array([2.7215765 , 3.21806786, 2.3864849 , 2.17376922, 2.60310231])"
      ]
     },
     "execution_count": 3,
     "metadata": {},
     "output_type": "execute_result"
    }
   ],
   "source": [
    "from mlflow.models import validate_serving_input\n",
    "\n",
    "model_uri = 'runs:/8a3eb6beed904ea7be20df72c0c149f7/model'\n",
    "\n",
    "# The model is logged with an input example. MLflow converts\n",
    "# it into the serving payload format for the deployed model endpoint,\n",
    "# and saves it to 'serving_input_payload.json'\n",
    "serving_payload = \"\"\"{\n",
    "  \"dataframe_split\": {\n",
    "    \"columns\": [\n",
    "      \"total_bill\",\n",
    "      \"size\",\n",
    "      \"sex_Male\",\n",
    "      \"smoker_Yes\",\n",
    "      \"day_Sat\",\n",
    "      \"day_Sun\",\n",
    "      \"day_Thur\",\n",
    "      \"time_Lunch\"\n",
    "    ],\n",
    "    \"data\": [\n",
    "      [\n",
    "        17.31,\n",
    "        2,\n",
    "        false,\n",
    "        false,\n",
    "        false,\n",
    "        true,\n",
    "        false,\n",
    "        false\n",
    "      ],\n",
    "      [\n",
    "        24.27,\n",
    "        2,\n",
    "        true,\n",
    "        true,\n",
    "        true,\n",
    "        false,\n",
    "        false,\n",
    "        false\n",
    "      ],\n",
    "      [\n",
    "        13.39,\n",
    "        2,\n",
    "        false,\n",
    "        false,\n",
    "        false,\n",
    "        true,\n",
    "        false,\n",
    "        false\n",
    "      ],\n",
    "      [\n",
    "        11.17,\n",
    "        2,\n",
    "        false,\n",
    "        false,\n",
    "        false,\n",
    "        false,\n",
    "        true,\n",
    "        true\n",
    "      ],\n",
    "      [\n",
    "        15.98,\n",
    "        2,\n",
    "        true,\n",
    "        false,\n",
    "        false,\n",
    "        false,\n",
    "        true,\n",
    "        true\n",
    "      ]\n",
    "    ]\n",
    "  }\n",
    "}\"\"\"\n",
    "\n",
    "# Validate the serving payload works on the model\n",
    "validate_serving_input(model_uri, serving_payload)"
   ]
  },
  {
   "cell_type": "code",
   "execution_count": null,
   "id": "f4c41891-0139-44a7-8eaa-7ed5e27d99f7",
   "metadata": {},
   "outputs": [],
   "source": []
  },
  {
   "cell_type": "code",
   "execution_count": null,
   "id": "6c6ff015-6146-4f6b-89f1-bad15e027e1a",
   "metadata": {},
   "outputs": [],
   "source": []
  },
  {
   "cell_type": "code",
   "execution_count": 5,
   "id": "25515480-0103-4b90-aeba-6f509b3a3ee9",
   "metadata": {},
   "outputs": [
    {
     "data": {
      "application/vnd.jupyter.widget-view+json": {
       "model_id": "5d070628381d4cec82c59e3928f04390",
       "version_major": 2,
       "version_minor": 0
      },
      "text/plain": [
       "Downloading artifacts:   0%|          | 0/7 [00:00<?, ?it/s]"
      ]
     },
     "metadata": {},
     "output_type": "display_data"
    },
    {
     "name": "stderr",
     "output_type": "stream",
     "text": [
      "2025/10/18 13:12:09 WARNING mlflow.utils.requirements_utils: Detected one or more mismatches between the model's dependencies and the current Python environment:\n",
      " - cloudpickle (current: 2.2.1, required: cloudpickle==3.1.1)\n",
      " - numpy (current: 1.24.4, required: numpy==1.26.4)\n",
      " - psutil (current: 5.9.5, required: psutil==6.0.0)\n",
      " - scikit-learn (current: 1.3.0, required: scikit-learn==1.5.1)\n",
      " - scipy (current: 1.11.1, required: scipy==1.15.3)\n",
      "To fix the mismatches, call `mlflow.pyfunc.get_model_dependencies(model_uri)` to fetch the model's environment and install dependencies using the resulting environment file.\n",
      "2025/10/18 13:12:09 WARNING mlflow.pyfunc: The version of Python that the model was saved in, `Python 3.10.14`, differs from the version of Python that is currently running, `Python 3.11.4`, and may be incompatible\n",
      "/opt/conda/lib/python3.11/site-packages/sklearn/base.py:347: InconsistentVersionWarning: Trying to unpickle estimator LinearRegression from version 1.5.1 when using version 1.3.0. This might lead to breaking code or invalid results. Use at your own risk. For more info please refer to:\n",
      "https://scikit-learn.org/stable/model_persistence.html#security-maintainability-limitations\n",
      "  warnings.warn(\n"
     ]
    },
    {
     "data": {
      "text/plain": [
       "array([2.7215765 , 3.21806786, 2.3864849 , 2.17376922, 2.60310231])"
      ]
     },
     "execution_count": 5,
     "metadata": {},
     "output_type": "execute_result"
    }
   ],
   "source": [
    "from mlflow.models import validate_serving_input\n",
    "\n",
    "model_uri = 'runs:/ea54a23fa62a40bd88bd0ab035c3b560/model'\n",
    "\n",
    "# The model is logged with an input example. MLflow converts\n",
    "# it into the serving payload format for the deployed model endpoint,\n",
    "# and saves it to 'serving_input_payload.json'\n",
    "serving_payload = \"\"\"{\n",
    "  \"dataframe_split\": {\n",
    "    \"columns\": [\n",
    "      \"total_bill\",\n",
    "      \"size\",\n",
    "      \"sex_Male\",\n",
    "      \"smoker_Yes\",\n",
    "      \"day_Sat\",\n",
    "      \"day_Sun\",\n",
    "      \"day_Thur\",\n",
    "      \"time_Lunch\"\n",
    "    ],\n",
    "    \"data\": [\n",
    "      [\n",
    "        17.31,\n",
    "        2,\n",
    "        false,\n",
    "        false,\n",
    "        false,\n",
    "        true,\n",
    "        false,\n",
    "        false\n",
    "      ],\n",
    "      [\n",
    "        24.27,\n",
    "        2,\n",
    "        true,\n",
    "        true,\n",
    "        true,\n",
    "        false,\n",
    "        false,\n",
    "        false\n",
    "      ],\n",
    "      [\n",
    "        13.39,\n",
    "        2,\n",
    "        false,\n",
    "        false,\n",
    "        false,\n",
    "        true,\n",
    "        false,\n",
    "        false\n",
    "      ],\n",
    "      [\n",
    "        11.17,\n",
    "        2,\n",
    "        false,\n",
    "        false,\n",
    "        false,\n",
    "        false,\n",
    "        true,\n",
    "        true\n",
    "      ],\n",
    "      [\n",
    "        15.98,\n",
    "        2,\n",
    "        true,\n",
    "        false,\n",
    "        false,\n",
    "        false,\n",
    "        true,\n",
    "        true\n",
    "      ]\n",
    "    ]\n",
    "  }\n",
    "}\"\"\"\n",
    "\n",
    "# Validate the serving payload works on the model\n",
    "validate_serving_input(model_uri, serving_payload)"
   ]
  },
  {
   "cell_type": "code",
   "execution_count": null,
   "id": "f8c0b664-0918-49e6-b231-158751422b83",
   "metadata": {},
   "outputs": [],
   "source": []
  }
 ],
 "metadata": {
  "kernelspec": {
   "display_name": "Python 3 (ipykernel)",
   "language": "python",
   "name": "python3"
  },
  "language_info": {
   "codemirror_mode": {
    "name": "ipython",
    "version": 3
   },
   "file_extension": ".py",
   "mimetype": "text/x-python",
   "name": "python",
   "nbconvert_exporter": "python",
   "pygments_lexer": "ipython3",
   "version": "3.11.4"
  }
 },
 "nbformat": 4,
 "nbformat_minor": 5
}
