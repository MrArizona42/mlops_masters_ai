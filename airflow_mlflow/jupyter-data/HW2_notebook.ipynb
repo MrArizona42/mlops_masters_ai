{
 "cells": [
  {
   "cell_type": "code",
   "execution_count": 16,
   "id": "ef22e324-a337-441e-bea5-37623a5287a5",
   "metadata": {},
   "outputs": [
    {
     "name": "stderr",
     "output_type": "stream",
     "text": [
      "/opt/conda/lib/python3.11/site-packages/_distutils_hack/__init__.py:18: UserWarning: Distutils was imported before Setuptools, but importing Setuptools also replaces the `distutils` module in `sys.modules`. This may lead to undesirable behaviors or errors. To avoid these issues, avoid using distutils directly, ensure that setuptools is installed in the traditional way (e.g. not an editable install), and/or make sure that setuptools is always imported before distutils.\n",
      "  warnings.warn(\n",
      "/opt/conda/lib/python3.11/site-packages/_distutils_hack/__init__.py:33: UserWarning: Setuptools is replacing distutils.\n",
      "  warnings.warn(\"Setuptools is replacing distutils.\")\n"
     ]
    },
    {
     "data": {
      "application/vnd.jupyter.widget-view+json": {
       "model_id": "05c685ebb75c4be19e9d3bd09c8a4126",
       "version_major": 2,
       "version_minor": 0
      },
      "text/plain": [
       "Downloading artifacts:   0%|          | 0/7 [00:00<?, ?it/s]"
      ]
     },
     "metadata": {},
     "output_type": "display_data"
    },
    {
     "name": "stderr",
     "output_type": "stream",
     "text": [
      "2025/09/25 18:56:28 INFO mlflow.tracking._tracking_service.client: 🏃 View run LinearRegression at: http://mlflow-service:5000/#/experiments/903794153178792619/runs/3d8d563b79ca4b068b3b2a4c051a90bc.\n",
      "2025/09/25 18:56:28 INFO mlflow.tracking._tracking_service.client: 🧪 View experiment at: http://mlflow-service:5000/#/experiments/903794153178792619.\n",
      "/opt/conda/lib/python3.11/site-packages/_distutils_hack/__init__.py:18: UserWarning: Distutils was imported before Setuptools, but importing Setuptools also replaces the `distutils` module in `sys.modules`. This may lead to undesirable behaviors or errors. To avoid these issues, avoid using distutils directly, ensure that setuptools is installed in the traditional way (e.g. not an editable install), and/or make sure that setuptools is always imported before distutils.\n",
      "  warnings.warn(\n",
      "/opt/conda/lib/python3.11/site-packages/_distutils_hack/__init__.py:33: UserWarning: Setuptools is replacing distutils.\n",
      "  warnings.warn(\"Setuptools is replacing distutils.\")\n"
     ]
    },
    {
     "data": {
      "application/vnd.jupyter.widget-view+json": {
       "model_id": "08695aab44fe45f1ae807a38fa3a62f8",
       "version_major": 2,
       "version_minor": 0
      },
      "text/plain": [
       "Downloading artifacts:   0%|          | 0/7 [00:00<?, ?it/s]"
      ]
     },
     "metadata": {},
     "output_type": "display_data"
    },
    {
     "name": "stderr",
     "output_type": "stream",
     "text": [
      "2025/09/25 18:56:29 INFO mlflow.tracking._tracking_service.client: 🏃 View run Tree at: http://mlflow-service:5000/#/experiments/903794153178792619/runs/07d57a0799a0482f95f2eb56356c0a1a.\n",
      "2025/09/25 18:56:29 INFO mlflow.tracking._tracking_service.client: 🧪 View experiment at: http://mlflow-service:5000/#/experiments/903794153178792619.\n",
      "/opt/conda/lib/python3.11/site-packages/_distutils_hack/__init__.py:18: UserWarning: Distutils was imported before Setuptools, but importing Setuptools also replaces the `distutils` module in `sys.modules`. This may lead to undesirable behaviors or errors. To avoid these issues, avoid using distutils directly, ensure that setuptools is installed in the traditional way (e.g. not an editable install), and/or make sure that setuptools is always imported before distutils.\n",
      "  warnings.warn(\n",
      "/opt/conda/lib/python3.11/site-packages/_distutils_hack/__init__.py:33: UserWarning: Setuptools is replacing distutils.\n",
      "  warnings.warn(\"Setuptools is replacing distutils.\")\n"
     ]
    },
    {
     "data": {
      "application/vnd.jupyter.widget-view+json": {
       "model_id": "a3eb127ab1fd41a98077d8aa36b847fc",
       "version_major": 2,
       "version_minor": 0
      },
      "text/plain": [
       "Downloading artifacts:   0%|          | 0/7 [00:00<?, ?it/s]"
      ]
     },
     "metadata": {},
     "output_type": "display_data"
    },
    {
     "name": "stderr",
     "output_type": "stream",
     "text": [
      "2025/09/25 18:56:31 INFO mlflow.tracking._tracking_service.client: 🏃 View run RandomForestRegressor at: http://mlflow-service:5000/#/experiments/903794153178792619/runs/989483a067d941878ae2b3182af2aab8.\n",
      "2025/09/25 18:56:31 INFO mlflow.tracking._tracking_service.client: 🧪 View experiment at: http://mlflow-service:5000/#/experiments/903794153178792619.\n",
      "2025/09/25 18:56:31 INFO mlflow.tracking._tracking_service.client: 🏃 View run MrArizona42 at: http://mlflow-service:5000/#/experiments/819677041792604484/runs/58e404adef1d4f9ab496d36b5cfaca20.\n",
      "2025/09/25 18:56:31 INFO mlflow.tracking._tracking_service.client: 🧪 View experiment at: http://mlflow-service:5000/#/experiments/819677041792604484.\n",
      "2025/09/25 18:56:31 INFO mlflow.store.model_registry.abstract_store: Waiting up to 300 seconds for model version to finish creation. Model name: LinearRegression_Muradov, version 8\n"
     ]
    },
    {
     "name": "stdout",
     "output_type": "stream",
     "text": [
      "Best model: LinearRegression with MSE: 2848.3106508475053\n",
      "Registered as: LinearRegression_Muradov v8 in Staging\n"
     ]
    }
   ],
   "source": [
    "# Требования\n",
    "# Nested runs должны быть видны в MLflow UI.\n",
    "# Обязательно логировать метрики и параметры\n",
    "# У зарегистрированной модели есть signature и input_example.\n",
    "# В Registry должна попасть только одна, лучшая модель.\n",
    "# Не забудьте про нейминги! Это важно!\n",
    "# Код структурирован: функции, запуск через if __name__ == \"__main__\":\n",
    "# В этом ДЗ убедительно просим обойтись sklearn'ом. В следующем ДЗ сможете опять разгуляться.\n",
    "# Файл называем ivanov_hw2.py\n",
    "# Вам необходимо реализовать логирование ML-эксперимента с помощью MLFlow,\n",
    "# который будет состоять из следующих шагов:\n",
    "\n",
    "import os\n",
    "\n",
    "import mlflow\n",
    "import pandas as pd\n",
    "from mlflow import MlflowClient\n",
    "from mlflow.models import infer_signature\n",
    "from sklearn.ensemble import RandomForestRegressor\n",
    "from sklearn.linear_model import LinearRegression\n",
    "from sklearn.metrics import mean_squared_error as MSE\n",
    "from sklearn.model_selection import train_test_split\n",
    "from sklearn.tree import DecisionTreeRegressor\n",
    "\n",
    "MY_NAME = \"Anton\"\n",
    "MY_SURNAME = \"Muradov\"\n",
    "EXPERIMENT_NAME = f\"{MY_NAME}_{MY_SURNAME}\"\n",
    "PARENT_RUN_NAME = \"MrArizona42\"\n",
    "MLFLOW_TRACKING_URI = os.getenv(\"MLFLOW_TRACKING_URI\")\n",
    "\n",
    "\n",
    "def prepare_data():\n",
    "    \"\"\"\n",
    "    Скачайте любой датасет.\n",
    "    Сделайте препроцессинг по желанию (доп баллы не предусмотрены).\n",
    "    Сделайте train/test split(random_state=42).\n",
    "    \"\"\"\n",
    "    import pandas as pd\n",
    "    from sklearn.datasets import load_diabetes\n",
    "    from sklearn.preprocessing import StandardScaler\n",
    "\n",
    "    data = load_diabetes()\n",
    "    X = pd.DataFrame(data.data, columns=data.feature_names)\n",
    "    y = pd.Series(data.target)\n",
    "\n",
    "    X_train, X_test, y_train, y_test = train_test_split(X, y, random_state=42)\n",
    "\n",
    "    scaler = StandardScaler()\n",
    "    X_train = pd.DataFrame(scaler.fit_transform(X_train), columns=X.columns)\n",
    "    X_test = pd.DataFrame(scaler.transform(X_test), columns=X.columns)\n",
    "\n",
    "    return X_train, X_test, y_train, y_test\n",
    "\n",
    "\n",
    "def train_and_log(name, model, X_train, y_train, X_test, y_test):\n",
    "    \"\"\"\n",
    "    Функция для обучения и логирования\n",
    "    \"\"\"\n",
    "\n",
    "    # Обучаем модель\n",
    "    model.fit(X_train, y_train)\n",
    "\n",
    "    # Делаем predict\n",
    "    y_pred = model.predict(X_test)\n",
    "\n",
    "    # Получаем описание данных\n",
    "    signature = infer_signature(X_test, y_pred)\n",
    "    \n",
    "    # Сохранить модель в артифактори\n",
    "    model_info = mlflow.sklearn.log_model(model, name, signature=signature, input_example=X_test.sample(5))\n",
    "\n",
    "    mse_val = float(MSE(y_test, y_pred))  # ensure scalar\n",
    "    mlflow.log_metric(\"mse\", mse_val)\n",
    "\n",
    "    params = model.get_params()\n",
    "    for param_name, param_value in params.items():\n",
    "        mlflow.log_param(param_name, param_value)\n",
    "\n",
    "    return model_info.model_uri\n",
    "\n",
    "\n",
    "def main():\n",
    "    \"\"\"\n",
    "    Подключитесь к MLFlow внутри докер сети\n",
    "    создайте эксперимент с названием Ivanov_I. Не забудьте проверку на уже существующий эксперимент!\n",
    "    запустите parent run с вашим ником в телеграм в качестве имени\n",
    "    Обучите 3 любые модели в цикле (child runs) для каждой:Залогируйте метрики согласно решаемой задаче с помощью MLFlow\n",
    "    Залогируйте параметры модели с помощью MLFlow\n",
    "    Сгенерируйте signature через infer_signature и залогируйте модель с input_example с помощью MLFlow\n",
    "\n",
    "    Получите одну основную метрику (на ваш выбор) из каждого child run.\n",
    "    Выберите модель с лучшей метрикой.\n",
    "    Зарегистрируйте лучшую модель с именем вида LogReg_{Surname}.\n",
    "    Переведите её версию в стадию Staging.\n",
    "    В консоли выведите сообщение с названием лучшей модели и её метрикой (logging — наше все).\n",
    "    \"\"\"\n",
    "    mlflow.set_tracking_uri(MLFLOW_TRACKING_URI)\n",
    "\n",
    "    try:\n",
    "        experiment_id = mlflow.create_experiment(EXPERIMENT_NAME)\n",
    "    except mlflow.exceptions.MlflowException:\n",
    "        experiment_id = mlflow.get_experiment_by_name(EXPERIMENT_NAME).experiment_id\n",
    "\n",
    "    mlflow.set_experiment(experiment_id)\n",
    "\n",
    "    models = {\n",
    "        \"LinearRegression\": LinearRegression(),\n",
    "        \"Tree\": DecisionTreeRegressor(),\n",
    "        \"RandomForestRegressor\": RandomForestRegressor(),\n",
    "    }\n",
    "\n",
    "    run_ids = {}\n",
    "    model_results = {}\n",
    "    model_uris = {}\n",
    "\n",
    "    with mlflow.start_run(run_name=PARENT_RUN_NAME, experiment_id=experiment_id) as parent_run:\n",
    "        X_train, X_test, y_train, y_test = prepare_data()\n",
    "\n",
    "        for model_name, model in models.items():\n",
    "            with mlflow.start_run(run_name=model_name, nested=True) as child_run:\n",
    "                model_uri = train_and_log(model_name, model, X_train, y_train, X_test, y_test)  # Capture URI\n",
    "                \n",
    "                run_ids[model_name] = child_run.info.run_id\n",
    "                model_uris[model_name] = model_uri  # Store URI\n",
    "                \n",
    "                run_data = mlflow.get_run(child_run.info.run_id).data\n",
    "                mse = run_data.metrics.get(\"mse\")\n",
    "                \n",
    "                model_results[model_name] = mse\n",
    "\n",
    "    if model_results:\n",
    "        best_model_name = min(model_results.keys(), key=lambda k: model_results[k])\n",
    "        best_run_id = run_ids[best_model_name]\n",
    "        best_mse = model_results[best_model_name]\n",
    "        best_model_uri = model_uris[best_model_name]\n",
    "    else:\n",
    "        raise ValueError(\"No model results found\")\n",
    "\n",
    "    client = MlflowClient()\n",
    "    registered_name = best_model_name + f\"_{MY_SURNAME}\"\n",
    "\n",
    "    try:\n",
    "        # Check if the registered model exists\n",
    "        client.get_registered_model(registered_name)\n",
    "        # If it exists, create a new version\n",
    "        model_version = client.create_model_version(\n",
    "            name=registered_name, source=best_model_uri\n",
    "        )\n",
    "    except mlflow.exceptions.MlflowException:\n",
    "        # If it doesn't exist, create the model and then the version\n",
    "        client.create_registered_model(registered_name)\n",
    "        model_version = client.create_model_version(\n",
    "            name=registered_name, source=best_model_uri \n",
    "        )\n",
    "\n",
    "    # Remove \"stage\" tag from any existing versions in \"Staging\" to ensure only one model is in Staging\n",
    "    existing_staging_versions = client.search_model_versions(\n",
    "        filter_string=f\"name='{registered_name}' and tags.stage='Staging'\"\n",
    "    )\n",
    "    for version in existing_staging_versions:\n",
    "        client.delete_model_version_tag(\n",
    "            name=registered_name, version=version.version, key=\"stage\"\n",
    "        )\n",
    "\n",
    "    # Set the \"stage\" tag to \"Staging\" on the new version\n",
    "    client.set_model_version_tag(\n",
    "        name=registered_name, \n",
    "        version=model_version.version, \n",
    "        key=\"stage\", \n",
    "        value=\"Staging\"\n",
    "    )\n",
    "\n",
    "    print(f\"Best model: {best_model_name} with MSE: {best_mse}\")\n",
    "    print(f\"Registered as: {registered_name} v{model_version.version} in Staging\")\n",
    "\n",
    "\n",
    "if __name__ == \"__main__\":\n",
    "    main()\n"
   ]
  },
  {
   "cell_type": "code",
   "execution_count": null,
   "id": "1d8fbbcf-bbbc-4ae4-aec6-7d1ce0f88d0b",
   "metadata": {},
   "outputs": [],
   "source": []
  }
 ],
 "metadata": {
  "kernelspec": {
   "display_name": "Python 3 (ipykernel)",
   "language": "python",
   "name": "python3"
  },
  "language_info": {
   "codemirror_mode": {
    "name": "ipython",
    "version": 3
   },
   "file_extension": ".py",
   "mimetype": "text/x-python",
   "name": "python",
   "nbconvert_exporter": "python",
   "pygments_lexer": "ipython3",
   "version": "3.11.4"
  }
 },
 "nbformat": 4,
 "nbformat_minor": 5
}
