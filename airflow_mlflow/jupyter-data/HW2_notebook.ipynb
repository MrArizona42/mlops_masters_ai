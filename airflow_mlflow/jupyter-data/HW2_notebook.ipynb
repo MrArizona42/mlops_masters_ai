{
 "cells": [
  {
   "cell_type": "code",
   "execution_count": 6,
   "id": "ef22e324-a337-441e-bea5-37623a5287a5",
   "metadata": {},
   "outputs": [
    {
     "name": "stderr",
     "output_type": "stream",
     "text": [
      "/opt/conda/lib/python3.11/site-packages/_distutils_hack/__init__.py:18: UserWarning: Distutils was imported before Setuptools, but importing Setuptools also replaces the `distutils` module in `sys.modules`. This may lead to undesirable behaviors or errors. To avoid these issues, avoid using distutils directly, ensure that setuptools is installed in the traditional way (e.g. not an editable install), and/or make sure that setuptools is always imported before distutils.\n",
      "  warnings.warn(\n",
      "/opt/conda/lib/python3.11/site-packages/_distutils_hack/__init__.py:33: UserWarning: Setuptools is replacing distutils.\n",
      "  warnings.warn(\"Setuptools is replacing distutils.\")\n"
     ]
    },
    {
     "data": {
      "application/vnd.jupyter.widget-view+json": {
       "model_id": "ab5924e4790c46838239f5c93a3b6307",
       "version_major": 2,
       "version_minor": 0
      },
      "text/plain": [
       "Downloading artifacts:   0%|          | 0/7 [00:00<?, ?it/s]"
      ]
     },
     "metadata": {},
     "output_type": "display_data"
    },
    {
     "name": "stderr",
     "output_type": "stream",
     "text": [
      "2025/09/25 15:25:11 INFO mlflow.tracking._tracking_service.client: 🏃 View run LinearRegression at: http://mlflow-service:5000/#/experiments/903794153178792619/runs/3e1d66b5c76b418ca9b1df7e35e46cff.\n",
      "2025/09/25 15:25:11 INFO mlflow.tracking._tracking_service.client: 🧪 View experiment at: http://mlflow-service:5000/#/experiments/903794153178792619.\n",
      "/opt/conda/lib/python3.11/site-packages/_distutils_hack/__init__.py:18: UserWarning: Distutils was imported before Setuptools, but importing Setuptools also replaces the `distutils` module in `sys.modules`. This may lead to undesirable behaviors or errors. To avoid these issues, avoid using distutils directly, ensure that setuptools is installed in the traditional way (e.g. not an editable install), and/or make sure that setuptools is always imported before distutils.\n",
      "  warnings.warn(\n",
      "/opt/conda/lib/python3.11/site-packages/_distutils_hack/__init__.py:33: UserWarning: Setuptools is replacing distutils.\n",
      "  warnings.warn(\"Setuptools is replacing distutils.\")\n"
     ]
    },
    {
     "data": {
      "application/vnd.jupyter.widget-view+json": {
       "model_id": "a86c07e38467403097ba291d51a3b56b",
       "version_major": 2,
       "version_minor": 0
      },
      "text/plain": [
       "Downloading artifacts:   0%|          | 0/7 [00:00<?, ?it/s]"
      ]
     },
     "metadata": {},
     "output_type": "display_data"
    },
    {
     "name": "stderr",
     "output_type": "stream",
     "text": [
      "2025/09/25 15:25:12 INFO mlflow.tracking._tracking_service.client: 🏃 View run Tree at: http://mlflow-service:5000/#/experiments/903794153178792619/runs/c457b0b8ef1f457a9c99d78c162e6a14.\n",
      "2025/09/25 15:25:12 INFO mlflow.tracking._tracking_service.client: 🧪 View experiment at: http://mlflow-service:5000/#/experiments/903794153178792619.\n",
      "/opt/conda/lib/python3.11/site-packages/_distutils_hack/__init__.py:18: UserWarning: Distutils was imported before Setuptools, but importing Setuptools also replaces the `distutils` module in `sys.modules`. This may lead to undesirable behaviors or errors. To avoid these issues, avoid using distutils directly, ensure that setuptools is installed in the traditional way (e.g. not an editable install), and/or make sure that setuptools is always imported before distutils.\n",
      "  warnings.warn(\n",
      "/opt/conda/lib/python3.11/site-packages/_distutils_hack/__init__.py:33: UserWarning: Setuptools is replacing distutils.\n",
      "  warnings.warn(\"Setuptools is replacing distutils.\")\n"
     ]
    },
    {
     "data": {
      "application/vnd.jupyter.widget-view+json": {
       "model_id": "a771741aa7a243afaf3e25410340bc44",
       "version_major": 2,
       "version_minor": 0
      },
      "text/plain": [
       "Downloading artifacts:   0%|          | 0/7 [00:00<?, ?it/s]"
      ]
     },
     "metadata": {},
     "output_type": "display_data"
    },
    {
     "name": "stderr",
     "output_type": "stream",
     "text": [
      "2025/09/25 15:25:14 INFO mlflow.tracking._tracking_service.client: 🏃 View run RandomForestRegressor at: http://mlflow-service:5000/#/experiments/903794153178792619/runs/d9a00efed40141bfba168757dee07fa5.\n",
      "2025/09/25 15:25:14 INFO mlflow.tracking._tracking_service.client: 🧪 View experiment at: http://mlflow-service:5000/#/experiments/903794153178792619.\n",
      "2025/09/25 15:25:14 INFO mlflow.tracking._tracking_service.client: 🏃 View run MrArizona42 at: http://mlflow-service:5000/#/experiments/819677041792604484/runs/3de603fed9ec4d0aa3b6b89e0430ddc6.\n",
      "2025/09/25 15:25:14 INFO mlflow.tracking._tracking_service.client: 🧪 View experiment at: http://mlflow-service:5000/#/experiments/819677041792604484.\n"
     ]
    },
    {
     "name": "stdout",
     "output_type": "stream",
     "text": [
      "Model registration failed: RESOURCE_ALREADY_EXISTS: Registered Model (name=LinearRegression_Muradov) already exists.\n"
     ]
    }
   ],
   "source": [
    "# Требования\n",
    "# Nested runs должны быть видны в MLflow UI.\n",
    "# Обязательно логировать метрики и параметры\n",
    "# У зарегистрированной модели есть signature и input_example.\n",
    "# В Registry должна попасть только одна, лучшая модель.\n",
    "# Не забудьте про нейминги! Это важно!\n",
    "# Код структурирован: функции, запуск через if __name__ == \"__main__\":\n",
    "# В этом ДЗ убедительно просим обойтись sklearn'ом. В следующем ДЗ сможете опять разгуляться.\n",
    "# Файл называем ivanov_hw2.py\n",
    "# Вам необходимо реализовать логирование ML-эксперимента с помощью MLFlow,\n",
    "# который будет состоять из следующих шагов:\n",
    "\n",
    "import os\n",
    "\n",
    "import mlflow\n",
    "import pandas as pd\n",
    "from mlflow import MlflowClient\n",
    "from mlflow.models import infer_signature\n",
    "from sklearn.ensemble import RandomForestRegressor\n",
    "from sklearn.linear_model import LinearRegression\n",
    "from sklearn.metrics import mean_squared_error as MSE\n",
    "from sklearn.model_selection import train_test_split\n",
    "from sklearn.tree import DecisionTreeRegressor\n",
    "\n",
    "MY_NAME = \"Anton\"\n",
    "MY_SURNAME = \"Muradov\"\n",
    "EXPERIMENT_NAME = f\"{MY_NAME}_{MY_SURNAME}\"\n",
    "PARENT_RUN_NAME = \"MrArizona42\"\n",
    "MLFLOW_TRACKING_URI = os.getenv(\"MLFLOW_TRACKING_URI\")\n",
    "\n",
    "\n",
    "def prepare_data():\n",
    "    \"\"\"\n",
    "    Скачайте любой датасет.\n",
    "    Сделайте препроцессинг по желанию (доп баллы не предусмотрены).\n",
    "    Сделайте train/test split(random_state=42).\n",
    "    \"\"\"\n",
    "    import pandas as pd\n",
    "    from sklearn.datasets import load_diabetes\n",
    "    from sklearn.preprocessing import StandardScaler\n",
    "\n",
    "    data = load_diabetes()\n",
    "    X = pd.DataFrame(data.data, columns=data.feature_names)\n",
    "    y = pd.Series(data.target)\n",
    "\n",
    "    X_train, X_test, y_train, y_test = train_test_split(X, y, random_state=42)\n",
    "\n",
    "    scaler = StandardScaler()\n",
    "    X_train = pd.DataFrame(scaler.fit_transform(X_train), columns=X.columns)\n",
    "    X_test = pd.DataFrame(scaler.transform(X_test), columns=X.columns)\n",
    "\n",
    "    return X_train, X_test, y_train, y_test\n",
    "\n",
    "\n",
    "def train_and_log(name, model, X_train, y_train, X_test, y_test):\n",
    "    \"\"\"\n",
    "    Подключитесь к MLFlow внутри докер сети\n",
    "    создайте эксперимент с названием Ivanov_I. Не забудьте проверку на уже существующий эксперимент!\n",
    "    запустите parent run с вашим ником в телеграм в качестве имени\n",
    "    Обучите 3 любые модели в цикле (child runs) для каждой:Залогируйте метрики согласно решаемой задаче с помощью MLFlow\n",
    "    Залогируйте параметры модели с помощью MLFlow\n",
    "    Сгенерируйте signature через infer_signature и залогируйте модель с input_example с помощью MLFlow\n",
    "    \"\"\"\n",
    "\n",
    "    # Обучаем модель\n",
    "    model.fit(X_train, y_train)\n",
    "\n",
    "    # Делаем predict\n",
    "    y_pred = model.predict(X_test)\n",
    "\n",
    "    # Получаем описание данных\n",
    "    signature = infer_signature(X_test, y_pred)\n",
    "    \n",
    "    # Сохранить модель в артифактори\n",
    "    model_info = mlflow.sklearn.log_model(model, name, signature=signature, input_example=X_test.sample(5))\n",
    "\n",
    "    mse_val = float(MSE(y_test, y_pred))  # ensure scalar\n",
    "    mlflow.log_metric(\"mse\", mse_val)\n",
    "\n",
    "    params = model.get_params()\n",
    "    for param_name, param_value in params.items():\n",
    "        mlflow.log_param(param_name, param_value)\n",
    "\n",
    "\n",
    "def main():\n",
    "    \"\"\"\n",
    "    Получите одну основную метрику (на ваш выбор) из каждого child run.\n",
    "    Выберите модель с лучшей метрикой.\n",
    "    Зарегистрируйте лучшую модель с именем вида LogReg_{Surname}.\n",
    "    Переведите её версию в стадию Staging.\n",
    "    В консоли выведите сообщение с названием лучшей модели и её метрикой (logging — наше все).\n",
    "    \"\"\"\n",
    "    mlflow.set_tracking_uri(MLFLOW_TRACKING_URI)\n",
    "\n",
    "    try:\n",
    "        experiment_id = mlflow.create_experiment(EXPERIMENT_NAME)\n",
    "    except mlflow.exceptions.MlflowException:\n",
    "        experiment_id = mlflow.get_experiment_by_name(EXPERIMENT_NAME).experiment_id\n",
    "\n",
    "    mlflow.set_experiment(experiment_id)\n",
    "\n",
    "    models = {\n",
    "        \"LinearRegression\": LinearRegression(),\n",
    "        \"Tree\": DecisionTreeRegressor(),\n",
    "        \"RandomForestRegressor\": RandomForestRegressor(),\n",
    "    }\n",
    "\n",
    "    run_ids = {}\n",
    "    model_results = {}\n",
    "\n",
    "    with mlflow.start_run(run_name=PARENT_RUN_NAME, experiment_id=experiment_id) as parent_run:\n",
    "        X_train, X_test, y_train, y_test = prepare_data()\n",
    "\n",
    "        for model_name, model in models.items():\n",
    "            with mlflow.start_run(run_name=model_name, nested=True) as child_run:\n",
    "                train_and_log(model_name, model, X_train, y_train, X_test, y_test)\n",
    "\n",
    "                run_ids[model_name] = child_run.info.run_id\n",
    "\n",
    "                run_data = mlflow.get_run(child_run.info.run_id).data\n",
    "                mse = run_data.metrics.get(\"mean_squared_error\") or run_data.metrics.get(\"mse\")\n",
    "\n",
    "                model_results[model_name] = mse\n",
    "\n",
    "    if model_results:\n",
    "        best_model_name = min(model_results.keys(), key=lambda k: model_results[k])\n",
    "        best_run_id = run_ids[best_model_name]\n",
    "        best_mse = model_results[best_model_name]\n",
    "    else:\n",
    "        raise ValueError(\"No model results found\")\n",
    "\n",
    "    client = MlflowClient()\n",
    "    registered_name = best_model_name + f\"_{MY_SURNAME}\"\n",
    "\n",
    "    try:\n",
    "        client.create_registered_model(registered_name)\n",
    "\n",
    "        client.create_model_version(\n",
    "            name=registered_name, source=f\"runs:/{best_run_id}/{best_model_name}\"\n",
    "        )\n",
    "\n",
    "        versions = client.get_latest_versions(registered_name)\n",
    "        client.transition_model_version_stage(\n",
    "            name=registered_name, version=versions[0].version, stage=\"Staging\"\n",
    "        )\n",
    "    except mlflow.exceptions.MlflowException as e:\n",
    "        print(f\"Model registration failed: {e}\")\n",
    "        return\n",
    "\n",
    "    print(f\"Best model: {best_model_name} with MSE: {best_mse}\")\n",
    "    print(f\"Registered as: {registered_name} v{versions[0].version} in Staging\")\n",
    "\n",
    "\n",
    "if __name__ == \"__main__\":\n",
    "    main()\n"
   ]
  },
  {
   "cell_type": "code",
   "execution_count": null,
   "id": "1d8fbbcf-bbbc-4ae4-aec6-7d1ce0f88d0b",
   "metadata": {},
   "outputs": [],
   "source": []
  }
 ],
 "metadata": {
  "kernelspec": {
   "display_name": "Python 3 (ipykernel)",
   "language": "python",
   "name": "python3"
  },
  "language_info": {
   "codemirror_mode": {
    "name": "ipython",
    "version": 3
   },
   "file_extension": ".py",
   "mimetype": "text/x-python",
   "name": "python",
   "nbconvert_exporter": "python",
   "pygments_lexer": "ipython3",
   "version": "3.11.4"
  }
 },
 "nbformat": 4,
 "nbformat_minor": 5
}
